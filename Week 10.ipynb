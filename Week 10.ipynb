{
 "cells": [
  {
   "cell_type": "markdown",
   "metadata": {},
   "source": [
    "### Classes and Objects."
   ]
  },
  {
   "cell_type": "code",
   "execution_count": 1,
   "metadata": {},
   "outputs": [
    {
     "name": "stdout",
     "output_type": "stream",
     "text": [
      "0 Bhuvanesh\n",
      "None None\n",
      "2 Harish\n",
      "None Asmita\n"
     ]
    }
   ],
   "source": [
    "class Student:\n",
    "    roll_no = None\n",
    "    name = None\n",
    "s0 = Student()\n",
    "s0.roll_no = 0\n",
    "s0.name = 'Bhuvanesh'\n",
    "print(s0.roll_no, s0.name)\n",
    "\n",
    "s1 = Student()\n",
    "print(s1.roll_no, s1.name)\n",
    "\n",
    "s2 = Student()\n",
    "s2.roll_no = 2\n",
    "s2.name = 'Harish'\n",
    "print(s2.roll_no, s2.name)\n",
    "\n",
    "# Assume we have a new student in the class and they have not beem alloted any roll number.\n",
    "s50 = Student()\n",
    "s50.name = 'Asmita'\n",
    "print(s50.roll_no, s50.name)"
   ]
  },
  {
   "cell_type": "markdown",
   "metadata": {},
   "source": [
    "### Attributes and Methods."
   ]
  },
  {
   "cell_type": "code",
   "execution_count": 2,
   "metadata": {},
   "outputs": [
    {
     "name": "stdout",
     "output_type": "stream",
     "text": [
      "0 Bhuvanesh\n",
      "1 Harish\n",
      "2\n"
     ]
    }
   ],
   "source": [
    "class Student:\n",
    "    count = 0  # Count variable belongs to class not s0 or s1.\n",
    "    def __init__(self,roll_no,name):\n",
    "        self.roll_no = roll_no\n",
    "        self.name = name\n",
    "    def display(self):\n",
    "        print(self.roll_no, self.name)\n",
    "        \n",
    "s0 = Student(0, 'Bhuvanesh')\n",
    "Student.count += 1\n",
    "s0.display()\n",
    "\n",
    "s1 = Student(1, 'Harish')\n",
    "Student.count += 1\n",
    "s1.display()\n",
    "print(Student.count)"
   ]
  },
  {
   "cell_type": "code",
   "execution_count": 3,
   "metadata": {},
   "outputs": [
    {
     "name": "stdout",
     "output_type": "stream",
     "text": [
      "0 Bhuvanesh 100\n",
      "Fail\n",
      "1 Harish 150\n",
      "Pass\n"
     ]
    }
   ],
   "source": [
    "class Student:\n",
    "    def __init__(self, roll_no, name, total):\n",
    "        self.roll_no = roll_no\n",
    "        self.name = name\n",
    "        self.total = total\n",
    "        \n",
    "    def display(self):\n",
    "        print(self.roll_no, self.name, self.total)\n",
    "        \n",
    "    def result(self):\n",
    "        if self.total > 120:\n",
    "            print('Pass')\n",
    "        else:\n",
    "            print('Fail')\n",
    "      \n",
    "s0 = Student(0, 'Bhuvanesh', 100)\n",
    "s0.display()\n",
    "s0.result()\n",
    "    \n",
    "s1 = Student(1, 'Harish', 150)\n",
    "s1.display()\n",
    "s1.result()"
   ]
  },
  {
   "cell_type": "markdown",
   "metadata": {},
   "source": [
    "### Inheritance and Method Overriding."
   ]
  },
  {
   "cell_type": "code",
   "execution_count": 7,
   "metadata": {},
   "outputs": [
    {
     "name": "stdout",
     "output_type": "stream",
     "text": [
      "Rida 20\n",
      "250\n",
      "Harsh 30\n",
      "50000\n"
     ]
    }
   ],
   "source": [
    "class Person:\n",
    "    def __init__(self,name,age):\n",
    "        self.name = name\n",
    "        self.age = age\n",
    "        \n",
    "    def display(self):\n",
    "        print(self.name, self.age)\n",
    "        \n",
    "class Student(Person):     \n",
    "    def __init__(self,name,age,marks):\n",
    "        super().__init__(name,age)\n",
    "        self.marks = marks\n",
    "    def display(self):\n",
    "        super().display()\n",
    "        print(self.marks)\n",
    "        \n",
    "class Employee(Person): \n",
    "    def __init__(self,name,age,salary):\n",
    "        super().__init__(name,age)\n",
    "        self.salary = salary\n",
    "        \n",
    "    def display(self):\n",
    "        super().display()\n",
    "        print(self.salary)\n",
    "        \n",
    "s = Student('Rida', 20, 250)\n",
    "s.display()\n",
    "e = Employee('Harsh', 30, 50000)\n",
    "e.display()"
   ]
  },
  {
   "cell_type": "markdown",
   "metadata": {},
   "source": [
    "### Introduction to Numpy Library."
   ]
  },
  {
   "cell_type": "code",
   "execution_count": 8,
   "metadata": {},
   "outputs": [
    {
     "name": "stdout",
     "output_type": "stream",
     "text": [
      "42 0 \n",
      "\n",
      "[1 2 3 4 5] 1 \n",
      "\n",
      "[[1 2 3]\n",
      " [4 5 6]] 2 \n",
      "\n",
      "[[[1 2 3]\n",
      "  [4 5 6]]\n",
      "\n",
      " [[1 2 3]\n",
      "  [4 5 6]]] 3 \n",
      "\n"
     ]
    }
   ],
   "source": [
    "import numpy as np\n",
    "\n",
    "a = np.array(42)\n",
    "b = np.array([1,2,3,4,5])\n",
    "c = np.array([[1,2,3],[4,5,6]])\n",
    "d = np.array([[[1,2,3], [4,5,6]],\n",
    "             [[1,2,3], [4,5,6]]])\n",
    "\n",
    "print(a, a.ndim, '\\n')\n",
    "print(b, b.ndim, '\\n')\n",
    "print(c, c.ndim, '\\n')\n",
    "print(d, d.ndim, '\\n')"
   ]
  },
  {
   "cell_type": "markdown",
   "metadata": {},
   "source": [
    "### Introduction to Matplotlib library."
   ]
  },
  {
   "cell_type": "code",
   "execution_count": 11,
   "metadata": {},
   "outputs": [
    {
     "data": {
      "image/png": "[encoded data removed]",
      "text/plain": [
       "<Figure size 432x288 with 1 Axes>"
      ]
     },
     "metadata": {
      "needs_background": "light"
     },
     "output_type": "display_data"
    }
   ],
   "source": [
    "import matplotlib.pyplot as plt\n",
    "import numpy as np\n",
    "\n",
    "x = np.array([5,7,8,7,2])\n",
    "y = np.array([99,86,87,88,111])\n",
    "plt.scatter(x,y)\n",
    "plt.show()"
   ]
  },
  {
   "cell_type": "code",
   "execution_count": 13,
   "metadata": {},
   "outputs": [
    {
     "data": {
      "image/png": "[encoded data removed]",
      "text/plain": [
       "<Figure size 432x288 with 1 Axes>"
      ]
     },
     "metadata": {
      "needs_background": "light"
     },
     "output_type": "display_data"
    }
   ],
   "source": [
    "x = np.array([\"A\", \"B\", \"C\", \"D\"])\n",
    "y = np.array([3,8,1,10])\n",
    "plt.bar(x,y)\n",
    "plt.show()"
   ]
  },
  {
   "cell_type": "code",
   "execution_count": 14,
   "metadata": {},
   "outputs": [
    {
     "data": {
      "image/png": "[encoded data removed]",
      "text/plain": [
       "<Figure size 432x288 with 1 Axes>"
      ]
     },
     "metadata": {},
     "output_type": "display_data"
    }
   ],
   "source": [
    "y = np.array([35,25,25,15])\n",
    "mylabels = [\"Apples\", \"Bananas\", \"Cherries\", \"Dates\"]\n",
    "plt.pie(y, labels = mylabels, startangle = 90)\n",
    "plt.show()"
   ]
  }
 ],
 "metadata": {
  "kernelspec": {
   "display_name": "Python 3",
   "language": "python",
   "name": "python3"
  },
  "language_info": {
   "codemirror_mode": {
    "name": "ipython",
    "version": 3
   },
   "file_extension": ".py",
   "mimetype": "text/x-python",
   "name": "python",
   "nbconvert_exporter": "python",
   "pygments_lexer": "ipython3",
   "version": "3.8.5"
  }
 },
 "nbformat": 4,
 "nbformat_minor": 4
}
