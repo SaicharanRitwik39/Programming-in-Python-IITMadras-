{
 "cells": [
  {
   "cell_type": "code",
   "execution_count": 2,
   "metadata": {},
   "outputs": [
    {
     "name": "stdout",
     "output_type": "stream",
     "text": [
      "600000\n"
     ]
    }
   ],
   "source": [
    "ram_bank_balance = 100000   # Make variable names self explanatory.\n",
    "# Ram's bank balance. This will be positive.\n",
    "ram_loan = 500000                               # Add commments!!!!\n",
    "# Ram's loan. This will be negative.\n",
    "\n",
    "lakshman_bank_balance = 2000000\n",
    "lakshman_loan = 1000000\n",
    "\n",
    "net_income = lakshman_bank_balance + ram_bank_balance\n",
    "# Total bank balance of both the brothers.\n",
    "net_liability = ram_loan+lakshman_loan\n",
    "# Total loan of both the brothers.\n",
    "\n",
    "final_value = net_income-net_liability\n",
    "print(final_value)"
   ]
  },
  {
   "cell_type": "code",
   "execution_count": 4,
   "metadata": {},
   "outputs": [
    {
     "name": "stdout",
     "output_type": "stream",
     "text": [
      "<class 'int'>\n",
      "<class 'str'>\n"
     ]
    }
   ],
   "source": [
    "# Dynamic Typing illustration.\n",
    "a = 10\n",
    "print(type(a))\n",
    "a = 'India'\n",
    "print(type(a))"
   ]
  },
  {
   "cell_type": "code",
   "execution_count": 9,
   "metadata": {},
   "outputs": [
    {
     "name": "stdout",
     "output_type": "stream",
     "text": [
      "<class 'int'>\n",
      "10\n",
      "<class 'float'>\n",
      "5.0\n",
      "<class 'float'>\n",
      "5.0\n"
     ]
    }
   ],
   "source": [
    "n = 10\n",
    "print(type(n))\n",
    "print(n)\n",
    "n = n/2\n",
    "print(type(n))\n",
    "print(n)\n",
    "n = n/1        # Even if we divide by 1.\n",
    "print(type(n))\n",
    "print(n)"
   ]
  },
  {
   "cell_type": "code",
   "execution_count": 10,
   "metadata": {},
   "outputs": [
    {
     "name": "stdout",
     "output_type": "stream",
     "text": [
      "2 1\n"
     ]
    }
   ],
   "source": [
    "# Multiple assignment.\n",
    "x,y = 1,2\n",
    "print(y,x)"
   ]
  },
  {
   "cell_type": "code",
   "execution_count": 16,
   "metadata": {},
   "outputs": [
    {
     "name": "stdout",
     "output_type": "stream",
     "text": [
      "10 10 10\n"
     ]
    }
   ],
   "source": [
    "x = y = z = 10\n",
    "print(x,y,z)"
   ]
  },
  {
   "cell_type": "code",
   "execution_count": 17,
   "metadata": {},
   "outputs": [
    {
     "name": "stdout",
     "output_type": "stream",
     "text": [
      "1 2\n",
      "2 1\n"
     ]
    }
   ],
   "source": [
    "# Swap the values.\n",
    "x,y = 1,2\n",
    "print(x,y)\n",
    "x,y = y,x\n",
    "print(x,y)"
   ]
  },
  {
   "cell_type": "code",
   "execution_count": 19,
   "metadata": {},
   "outputs": [
    {
     "name": "stdout",
     "output_type": "stream",
     "text": [
      "10\n"
     ]
    }
   ],
   "source": [
    "# Deleting a variable.\n",
    "x = 10\n",
    "print(x)\n",
    "#del x\n",
    "#print(x)"
   ]
  },
  {
   "cell_type": "code",
   "execution_count": 21,
   "metadata": {},
   "outputs": [
    {
     "name": "stdout",
     "output_type": "stream",
     "text": [
      "4\n",
      "4\n"
     ]
    }
   ],
   "source": [
    "# Shorthand operators.\n",
    "count = 0\n",
    "count = count + 1\n",
    "count = count + 1\n",
    "count = count + 1\n",
    "count = count + 1\n",
    "print(count)\n",
    "\n",
    "#Alter\n",
    "count = 0\n",
    "count += 1\n",
    "count += 1\n",
    "count += 1\n",
    "count += 1\n",
    "print(count)"
   ]
  },
  {
   "cell_type": "code",
   "execution_count": 22,
   "metadata": {},
   "outputs": [
    {
     "name": "stdout",
     "output_type": "stream",
     "text": [
      "8\n"
     ]
    }
   ],
   "source": [
    "count = 10\n",
    "count -= 1\n",
    "count = count - 1\n",
    "print(count)"
   ]
  },
  {
   "cell_type": "code",
   "execution_count": 23,
   "metadata": {},
   "outputs": [
    {
     "name": "stdout",
     "output_type": "stream",
     "text": [
      "40\n"
     ]
    }
   ],
   "source": [
    "count = 10\n",
    "count *= 2\n",
    "count = count*2\n",
    "print(count)"
   ]
  },
  {
   "cell_type": "code",
   "execution_count": 24,
   "metadata": {},
   "outputs": [
    {
     "name": "stdout",
     "output_type": "stream",
     "text": [
      "2.5\n"
     ]
    }
   ],
   "source": [
    "count = 10\n",
    "count /= 2\n",
    "count = count/2\n",
    "print(count)"
   ]
  },
  {
   "cell_type": "code",
   "execution_count": 25,
   "metadata": {},
   "outputs": [
    {
     "name": "stdout",
     "output_type": "stream",
     "text": [
      "True\n",
      "False\n"
     ]
    }
   ],
   "source": [
    "# in operator\n",
    "print('alpha' in 'alpha-numeric')\n",
    "print('alpha' in 'yea-nboi')"
   ]
  },
  {
   "cell_type": "code",
   "execution_count": 26,
   "metadata": {},
   "outputs": [
    {
     "name": "stdout",
     "output_type": "stream",
     "text": [
      "True\n",
      "False\n",
      "True\n",
      "True\n",
      "True\n"
     ]
    }
   ],
   "source": [
    "# Changing operators.\n",
    "x = 5\n",
    "print(1 < x < 10)\n",
    "print(10 < x < 20)\n",
    "print(x < 10 < x*10 < 100)\n",
    "print(10 > x <= 9)\n",
    "print(5 == x > 4)"
   ]
  },
  {
   "cell_type": "markdown",
   "metadata": {},
   "source": [
    "### Escape characters and Types of quotes."
   ]
  },
  {
   "cell_type": "code",
   "execution_count": 30,
   "metadata": {},
   "outputs": [
    {
     "name": "stdout",
     "output_type": "stream",
     "text": [
      "It's a beautiful day.\n",
      "We are from \"IIT\" Madras.\n"
     ]
    }
   ],
   "source": [
    "print('It\\'s a beautiful day.')\n",
    "print(\"We are from \\\"IIT\\\" Madras.\")"
   ]
  },
  {
   "cell_type": "code",
   "execution_count": 31,
   "metadata": {},
   "outputs": [
    {
     "name": "stdout",
     "output_type": "stream",
     "text": [
      "My name is Saicharan Ritwik. I am from New Delhi.\n",
      "My name is Saicharan Ritwik. \t I am from New Delhi\n"
     ]
    }
   ],
   "source": [
    "# Tab \\t.\n",
    "print('My name is Saicharan Ritwik. I am from New Delhi.')\n",
    "print('My name is Saicharan Ritwik. \\t I am from New Delhi')"
   ]
  },
  {
   "cell_type": "code",
   "execution_count": 32,
   "metadata": {},
   "outputs": [
    {
     "name": "stdout",
     "output_type": "stream",
     "text": [
      "My name is Saicharan Ritwik. \n",
      "I am from New Delhi.\n"
     ]
    }
   ],
   "source": [
    "#Printing on different lines.\n",
    "print(\"My name is Saicharan Ritwik. \\nI am from New Delhi.\")"
   ]
  },
  {
   "cell_type": "code",
   "execution_count": 33,
   "metadata": {},
   "outputs": [
    {
     "name": "stdout",
     "output_type": "stream",
     "text": [
      "It's a beautiful day.\n",
      "We are from \"IIT\" Madras.\n"
     ]
    }
   ],
   "source": [
    "print(\"It's a beautiful day.\")\n",
    "print('We are from \"IIT\" Madras.')"
   ]
  },
  {
   "cell_type": "code",
   "execution_count": 34,
   "metadata": {},
   "outputs": [
    {
     "name": "stdout",
     "output_type": "stream",
     "text": [
      "This is a string.\n",
      "This is also a string.\n"
     ]
    }
   ],
   "source": [
    "x = 'This is a string.'\n",
    "y = \"This is also a string.\"\n",
    "print(x)\n",
    "print(y)"
   ]
  },
  {
   "cell_type": "code",
   "execution_count": 36,
   "metadata": {},
   "outputs": [
    {
     "name": "stdout",
     "output_type": "stream",
     "text": [
      "First Line\n",
      "Second Line\n",
      "Third Line\n",
      "Fourth Line\n",
      "\n"
     ]
    }
   ],
   "source": [
    "z = '''First Line\n",
    "Second Line\n",
    "Third Line\n",
    "Fourth Line\n",
    "'''\n",
    "print(z)"
   ]
  },
  {
   "cell_type": "markdown",
   "metadata": {},
   "source": [
    "### String Methods."
   ]
  },
  {
   "cell_type": "code",
   "execution_count": 37,
   "metadata": {},
   "outputs": [
    {
     "name": "stdout",
     "output_type": "stream",
     "text": [
      "python string methods\n",
      "PYTHON STRING METHODS\n",
      "Python string methods\n",
      "Python String Methods\n",
      "pYTHON sTRING mETHODS\n"
     ]
    }
   ],
   "source": [
    "x = 'Python String Methods'\n",
    "print(x.lower())\n",
    "print(x.upper())\n",
    "print(x.capitalize())\n",
    "print(x.title())\n",
    "print(x.swapcase())"
   ]
  },
  {
   "cell_type": "code",
   "execution_count": 43,
   "metadata": {},
   "outputs": [
    {
     "name": "stdout",
     "output_type": "stream",
     "text": [
      "True\n",
      "True\n",
      "True\n",
      "True\n",
      "True\n",
      "True\n"
     ]
    }
   ],
   "source": [
    "x = 'python'\n",
    "print(x.islower())\n",
    "y = 'PYTHON'\n",
    "print(y.isupper())\n",
    "z = '3D Modeling'\n",
    "print(z.istitle())\n",
    "a = '123'\n",
    "print(a.isdigit())\n",
    "b = 'absdlkhkhfwenhfiowhfkerh'\n",
    "print(b.isalpha())\n",
    "c = '123sai'\n",
    "print(c.isalnum())"
   ]
  },
  {
   "cell_type": "code",
   "execution_count": 45,
   "metadata": {},
   "outputs": [
    {
     "name": "stdout",
     "output_type": "stream",
     "text": [
      "Python\n",
      "Python-----\n",
      "-----Python\n"
     ]
    }
   ],
   "source": [
    "#Strip methods.\n",
    "x = '-----Python-----'\n",
    "print(x.strip('-'))\n",
    "print(x.lstrip('-'))\n",
    "print(x.rstrip('-'))"
   ]
  },
  {
   "cell_type": "code",
   "execution_count": 47,
   "metadata": {},
   "outputs": [
    {
     "name": "stdout",
     "output_type": "stream",
     "text": [
      "True\n",
      "True\n"
     ]
    }
   ],
   "source": [
    "x = 'Python'\n",
    "print(x.startswith('P'))\n",
    "print(x.endswith('n'))"
   ]
  },
  {
   "cell_type": "code",
   "execution_count": 48,
   "metadata": {},
   "outputs": [
    {
     "name": "stdout",
     "output_type": "stream",
     "text": [
      "3\n",
      "1\n",
      "1\n",
      "2\n",
      "20\n",
      "Python string methods\n"
     ]
    }
   ],
   "source": [
    "x = 'Python String Methods'\n",
    "print(x.count('t'))\n",
    "print(x.count('s'))\n",
    "print(x.count('S'))\n",
    "print(x.index('t'))\n",
    "print(x.index('s'))\n",
    "\n",
    "x = x.replace('S','s')\n",
    "x = x.replace('M','m')\n",
    "print(x)"
   ]
  },
  {
   "cell_type": "markdown",
   "metadata": {},
   "source": [
    "### An Interesting Cipher: More on Strings."
   ]
  },
  {
   "cell_type": "code",
   "execution_count": 49,
   "metadata": {},
   "outputs": [
    {
     "name": "stdout",
     "output_type": "stream",
     "text": [
      "a\n",
      "b\n",
      "c\n",
      "d\n"
     ]
    }
   ],
   "source": [
    "alpha = 'abcdefghijklmnopqrstuvwxyz'\n",
    "i = 0\n",
    "print(alpha[i])\n",
    "print(alpha[i+1])\n",
    "print(alpha[i+2])\n",
    "print(alpha[i+3])"
   ]
  },
  {
   "cell_type": "code",
   "execution_count": 50,
   "metadata": {},
   "outputs": [
    {
     "name": "stdout",
     "output_type": "stream",
     "text": [
      "u\n"
     ]
    }
   ],
   "source": [
    "print(alpha[20]) #shows 21st alphabet."
   ]
  },
  {
   "cell_type": "code",
   "execution_count": 55,
   "metadata": {},
   "outputs": [
    {
     "name": "stdout",
     "output_type": "stream",
     "text": [
      "e\n",
      "a\n",
      "b\n"
     ]
    }
   ],
   "source": [
    "i = 30\n",
    "print(alpha[i%26])\n",
    "i = 26\n",
    "print(alpha[i%26])\n",
    "i = 27\n",
    "print(alpha[i%26])"
   ]
  },
  {
   "cell_type": "code",
   "execution_count": 60,
   "metadata": {},
   "outputs": [
    {
     "name": "stdout",
     "output_type": "stream",
     "text": [
      "moxulmbuh\n"
     ]
    }
   ],
   "source": [
    "s = 'sudarshan'\n",
    "t = ''\n",
    "\n",
    "i = 0 #Variable for string index.\n",
    "k = 20 #Variable for shift.\n",
    "t = t+alpha[(((alpha.index(s[i]))+k)%26)] \n",
    "t = t+alpha[(((alpha.index(s[i+1]))+k)%26)]\n",
    "t = t+alpha[(((alpha.index(s[i+2]))+k)%26)]\n",
    "t = t+alpha[(((alpha.index(s[i+3]))+k)%26)]\n",
    "t = t+alpha[(((alpha.index(s[i+4]))+k)%26)]\n",
    "t = t+alpha[(((alpha.index(s[i+5]))+k)%26)]\n",
    "t = t+alpha[(((alpha.index(s[i+6]))+k)%26)]\n",
    "t = t+alpha[(((alpha.index(s[i+7]))+k)%26)]\n",
    "t = t+alpha[(((alpha.index(s[i+8]))+k)%26)]\n",
    "print(t)"
   ]
  },
  {
   "cell_type": "markdown",
   "metadata": {},
   "source": [
    "### If statement."
   ]
  },
  {
   "cell_type": "code",
   "execution_count": 62,
   "metadata": {},
   "outputs": [
    {
     "name": "stdout",
     "output_type": "stream",
     "text": [
      "Please enter your date of birth:\n",
      "2001\n",
      "Masti.\n",
      "Have a nice time.\n"
     ]
    }
   ],
   "source": [
    "print(\"Please enter your date of birth:\")\n",
    "year = int(input())\n",
    "\n",
    "current_year = 2023\n",
    "age = current_year-year\n",
    "if (age < 13):\n",
    "    print(\"You cannot watch this movie.\")\n",
    "else:\n",
    "    print(\"Masti.\")\n",
    "print(\"Have a nice time.\")    "
   ]
  },
  {
   "cell_type": "markdown",
   "metadata": {},
   "source": [
    "### Tutorial on if, else, if else conditions."
   ]
  },
  {
   "cell_type": "code",
   "execution_count": 63,
   "metadata": {},
   "outputs": [
    {
     "name": "stdout",
     "output_type": "stream",
     "text": [
      "Enter a number: 2\n",
      "Even\n"
     ]
    }
   ],
   "source": [
    "num = int(input('Enter a number: '))\n",
    "if (num%2 == 0):\n",
    "    print(\"Even\")\n",
    "else:\n",
    "    print(\"Odd\")"
   ]
  },
  {
   "cell_type": "code",
   "execution_count": 66,
   "metadata": {},
   "outputs": [
    {
     "name": "stdout",
     "output_type": "stream",
     "text": [
      "Enter a number:-20\n",
      "0\n"
     ]
    }
   ],
   "source": [
    "num = int(input('Enter a number:'))\n",
    "if (num%5 == 0):\n",
    "    if (num%10 == 0):\n",
    "        print('0')\n",
    "    else:\n",
    "        print('5')\n",
    "else:\n",
    "    print('Other')"
   ]
  },
  {
   "cell_type": "code",
   "execution_count": 72,
   "metadata": {},
   "outputs": [
    {
     "name": "stdout",
     "output_type": "stream",
     "text": [
      "Enter your marks: 120\n",
      "Invalid input.\n"
     ]
    }
   ],
   "source": [
    "marks = int(input('Enter your marks: '))\n",
    "if(marks >= 0 and marks <=100):\n",
    "    if (marks >= 90):\n",
    "        print('A')\n",
    "    if (marks >= 80 and marks < 90):\n",
    "        print('B')\n",
    "    if (marks >= 70 and marks < 80):\n",
    "        print('C')\n",
    "    if (marks >= 60 and marks < 70):\n",
    "        print('D')    \n",
    "    if (marks < 60):\n",
    "        print('E')\n",
    "else:\n",
    "    print('Invalid input.')"
   ]
  },
  {
   "cell_type": "markdown",
   "metadata": {},
   "source": [
    "### Introduction to import library."
   ]
  },
  {
   "cell_type": "code",
   "execution_count": 77,
   "metadata": {},
   "outputs": [
    {
     "name": "stdout",
     "output_type": "stream",
     "text": [
      "2.302585092994046\n",
      "0.8939966636005579\n",
      "3.1622776601683795\n",
      "1000.0\n"
     ]
    }
   ],
   "source": [
    "import math\n",
    "print(math.log(10))\n",
    "print(math.sin(90))\n",
    "print(math.sqrt(10))\n",
    "print(math.pow(10,3))"
   ]
  },
  {
   "cell_type": "code",
   "execution_count": 78,
   "metadata": {},
   "outputs": [
    {
     "name": "stdout",
     "output_type": "stream",
     "text": [
      "0.49702441030851885\n"
     ]
    }
   ],
   "source": [
    "import random\n",
    "print(random.random())"
   ]
  },
  {
   "cell_type": "code",
   "execution_count": 84,
   "metadata": {},
   "outputs": [
    {
     "name": "stdout",
     "output_type": "stream",
     "text": [
      "Tails\n"
     ]
    }
   ],
   "source": [
    "# Let us simulate a coin toss.\n",
    "a = random.random()\n",
    "if (a < 0.5):\n",
    "    print('Heads')\n",
    "else:\n",
    "    print('Tails')"
   ]
  },
  {
   "cell_type": "code",
   "execution_count": 87,
   "metadata": {},
   "outputs": [
    {
     "name": "stdout",
     "output_type": "stream",
     "text": [
      "6\n"
     ]
    }
   ],
   "source": [
    "dice1 = random.randrange(1,7)\n",
    "dice2 = random.randrange(1,7)\n",
    "print(dice1+dice2)"
   ]
  }
 ],
 "metadata": {
  "kernelspec": {
   "display_name": "Python 3",
   "language": "python",
   "name": "python3"
  },
  "language_info": {
   "codemirror_mode": {
    "name": "ipython",
    "version": 3
   },
   "file_extension": ".py",
   "mimetype": "text/x-python",
   "name": "python",
   "nbconvert_exporter": "python",
   "pygments_lexer": "ipython3",
   "version": "3.8.5"
  }
 },
 "nbformat": 4,
 "nbformat_minor": 4
}
