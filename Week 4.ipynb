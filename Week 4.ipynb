{
 "cells": [
  {
   "cell_type": "markdown",
   "metadata": {},
   "source": [
    "### Warmup with Lists."
   ]
  },
  {
   "cell_type": "code",
   "execution_count": 7,
   "metadata": {},
   "outputs": [
    {
     "name": "stdout",
     "output_type": "stream",
     "text": [
      "[1, 7, 2, 4, 100]\n",
      "[1, 7, 2, 4, 100, 1024]\n",
      "[1, 7, 2, 4, 1024]\n",
      "[1, 7, 2, 4, 1024, 2]\n",
      "[1, 7, 4, 1024, 2]\n"
     ]
    }
   ],
   "source": [
    "l = [1,7,2,4,100]\n",
    "print(l)\n",
    "l.append(1024)\n",
    "print(l)\n",
    "l.remove(100)\n",
    "print(l)\n",
    "l.append(2)\n",
    "print(l)\n",
    "l.remove(2)\n",
    "print(l)"
   ]
  },
  {
   "cell_type": "code",
   "execution_count": 13,
   "metadata": {},
   "outputs": [
    {
     "name": "stdout",
     "output_type": "stream",
     "text": [
      "[1, 2, 3]\n",
      "[[1, 2, 3], [10, 20, 30]]\n",
      "[[1, 2, 3], [10, 20, 30], [100, 1024, 69]]\n"
     ]
    }
   ],
   "source": [
    "l = []\n",
    "l.append(1)\n",
    "l.append(2)\n",
    "l.append(3)\n",
    "print(l)\n",
    "x = []\n",
    "m = [10,20,30]\n",
    "x.append(l)\n",
    "x.append(m)\n",
    "print(x)\n",
    "x.append([100,1024,69])\n",
    "print(x)"
   ]
  },
  {
   "cell_type": "code",
   "execution_count": 19,
   "metadata": {},
   "outputs": [
    {
     "name": "stdout",
     "output_type": "stream",
     "text": [
      "[[1, 2, 3], [4, 5, 6], [7, 8, 9]]\n",
      "[1, 2, 3]\n",
      "4\n"
     ]
    }
   ],
   "source": [
    "# Creating a Matrix.\n",
    "M = []\n",
    "M.append([1,2,3])\n",
    "M.append([4,5,6])\n",
    "M.append([7,8,9])\n",
    "print(M)\n",
    "print(M[0])\n",
    "print(M[1][0])"
   ]
  },
  {
   "cell_type": "markdown",
   "metadata": {},
   "source": [
    "### Birthday Paradox."
   ]
  },
  {
   "cell_type": "code",
   "execution_count": 1,
   "metadata": {},
   "outputs": [
    {
     "name": "stdout",
     "output_type": "stream",
     "text": [
      "[0.4280026925790652, 0.18040983959079093, 0.6055626029670075, 0.9493278718349192, 0.8963549436134813, 0.8861322330429648, 0.6377350550185662, 0.6649710708066221, 0.7087134509987003, 0.48294801375339425]\n"
     ]
    }
   ],
   "source": [
    "import random\n",
    "l = []\n",
    "for i in range(10):\n",
    "    l.append(random.random())\n",
    "print(l)"
   ]
  },
  {
   "cell_type": "code",
   "execution_count": 2,
   "metadata": {},
   "outputs": [
    {
     "name": "stdout",
     "output_type": "stream",
     "text": [
      "[9, 2, 10, 1, 10, 2, 2, 3, 4, 8, 8, 2, 7, 3, 5, 10, 7, 10, 4, 3, 5, 8, 7, 1, 2, 2, 4, 6, 7, 9, 8, 5, 5, 10, 2, 2, 7, 6, 6, 8, 1, 5, 9, 1, 6, 7, 9, 4, 5, 9, 10, 8, 7, 1, 1, 8, 7, 8, 3, 3, 2, 5, 4, 10, 8, 9, 7, 10, 10, 10, 4, 8, 1, 7, 8, 4, 2, 4, 5, 9, 8, 2, 6, 3, 6, 1, 2, 6, 2, 2, 3, 10, 3, 5, 10, 4, 10, 5, 2, 3]\n"
     ]
    }
   ],
   "source": [
    "l = []\n",
    "for i in range(100):\n",
    "    l.append(random.randint(1,10))\n",
    "print(l)    "
   ]
  },
  {
   "cell_type": "code",
   "execution_count": 9,
   "metadata": {},
   "outputs": [
    {
     "name": "stdout",
     "output_type": "stream",
     "text": [
      "[5, 5, 8, 9, 20, 25, 28, 29, 35, 40, 51, 51, 52, 53, 55, 56, 60, 68, 68, 68, 73, 77, 77, 79, 80, 80, 83, 86, 97, 98, 98, 100, 101, 108, 114, 119, 124, 126, 130, 138, 148, 150, 150, 152, 156, 157, 157, 161, 161, 165, 166, 166, 171, 172, 176, 178, 186, 187, 189, 192, 193, 202, 203, 204, 206, 219, 220, 221, 227, 230, 231, 234, 235, 236, 239, 245, 248, 248, 251, 252, 252, 254, 254, 274, 279, 281, 285, 289, 296, 311, 312, 323, 325, 327, 329, 345, 346, 347, 348, 364]\n",
      "Repeats\n"
     ]
    }
   ],
   "source": [
    "l = []\n",
    "for i in range(100):\n",
    "    l.append(random.randint(1,365))\n",
    "l.sort()    \n",
    "print(l)    \n",
    "\n",
    "i = 0\n",
    "flag = 0 # Denotes that there is no repetition.\n",
    "while( i < len(l)-1 ):\n",
    "    if( l[i] == l[i+1] ):\n",
    "        print('Repeats')\n",
    "        flag = 1\n",
    "        break\n",
    "    i = i+1    \n",
    "if(flag == 0):\n",
    "    print(\"Doesn't repeat\")"
   ]
  },
  {
   "cell_type": "markdown",
   "metadata": {},
   "source": [
    "### Naive search in a list."
   ]
  },
  {
   "cell_type": "code",
   "execution_count": 7,
   "metadata": {},
   "outputs": [
    {
     "name": "stdout",
     "output_type": "stream",
     "text": [
      "Enter a number:5678\n",
      "Hip Hip Hurray, element found.\n"
     ]
    }
   ],
   "source": [
    "import random\n",
    "l = []\n",
    "n = int(input('Enter a number:'))\n",
    "for i in range(1000000):\n",
    "    l.append(random.randint(1,10000000))\n",
    "flag = 0\n",
    "for i in range(len(l)):\n",
    "    if(n == l[i]):\n",
    "        print(\"Hip Hip Hurray, element found.\")\n",
    "        flag = 1\n",
    "        break\n",
    "if(flag == 0):\n",
    "    print('Element not found.')"
   ]
  },
  {
   "cell_type": "markdown",
   "metadata": {},
   "source": [
    "### The obvious sort."
   ]
  },
  {
   "cell_type": "code",
   "execution_count": 8,
   "metadata": {},
   "outputs": [
    {
     "name": "stdout",
     "output_type": "stream",
     "text": [
      "[6, 7, 8, 10, 12, 18, 35, 42]\n"
     ]
    }
   ],
   "source": [
    "l = [12,10,7,18,6,42,8,35]\n",
    "l.sort()\n",
    "print(l)"
   ]
  },
  {
   "cell_type": "code",
   "execution_count": 17,
   "metadata": {},
   "outputs": [
    {
     "name": "stdout",
     "output_type": "stream",
     "text": [
      "[6, 7, 7, 7, 8, 10, 12, 18, 35, 42]\n",
      "[]\n"
     ]
    }
   ],
   "source": [
    "# What if we do not want to use any in-built function? Let's get our hands wet using the first principles.\n",
    "l = [12,10,7,18,6,42,8,35,7,7]\n",
    "x = []\n",
    "\n",
    "while(len(l) > 0):\n",
    "    min = l[0]\n",
    "    for i in range(len(l)):\n",
    "        if(min > l[i]):\n",
    "           min = l[i]\n",
    "    l.remove(min)\n",
    "    x.append(min)\n",
    "print(x)\n",
    "print(l)"
   ]
  },
  {
   "cell_type": "markdown",
   "metadata": {},
   "source": [
    "### Dot Product."
   ]
  },
  {
   "cell_type": "code",
   "execution_count": 18,
   "metadata": {},
   "outputs": [
    {
     "name": "stdout",
     "output_type": "stream",
     "text": [
      "110\n"
     ]
    }
   ],
   "source": [
    "l = [1,3,4,67,18,17]\n",
    "sum = 0\n",
    "for i in range(len(l)):\n",
    "    sum+=l[i]\n",
    "print(sum)    "
   ]
  },
  {
   "cell_type": "code",
   "execution_count": 19,
   "metadata": {},
   "outputs": [
    {
     "name": "stdout",
     "output_type": "stream",
     "text": [
      "5121710\n"
     ]
    }
   ],
   "source": [
    "l = random.sample(list(range(10000)),1000)\n",
    "sum = 0\n",
    "for i in range(len(l)):\n",
    "    sum+=l[i]\n",
    "print(sum)"
   ]
  },
  {
   "cell_type": "code",
   "execution_count": 20,
   "metadata": {},
   "outputs": [
    {
     "name": "stdout",
     "output_type": "stream",
     "text": [
      "67\n"
     ]
    }
   ],
   "source": [
    "x = [1,7,3,4]\n",
    "y = [8,6,3,2]\n",
    "sum = 0\n",
    "for i in range(len(x)):\n",
    "    sum += x[i]*y[i]\n",
    "print(sum)    "
   ]
  },
  {
   "cell_type": "code",
   "execution_count": 1,
   "metadata": {},
   "outputs": [
    {
     "name": "stdout",
     "output_type": "stream",
     "text": [
      "[[2, 4, 4], [10, 7, 9], [11, 10, 10]]\n"
     ]
    }
   ],
   "source": [
    "dim = 3\n",
    "r1 = [1,2,3]\n",
    "r2 = [4,5,6]\n",
    "r3 = [7,8,9]\n",
    "\n",
    "s1 = [1,2,1]\n",
    "s2 = [6,2,3]\n",
    "s3 = [4,2,1]\n",
    "\n",
    "A = []\n",
    "A.append(r1)\n",
    "A.append(r2)\n",
    "A.append(r3)\n",
    "\n",
    "B = []\n",
    "B.append(s1)\n",
    "B.append(s2)\n",
    "B.append(s3)\n",
    "\n",
    "C = [[0,0,0], [0,0,0], [0,0,0]]       # It won't work if initialize C as C = [ [],[],[] ]\n",
    "for i in range(dim):\n",
    "    for j in range(dim):\n",
    "        C[i][j] = A[i][j]+B[i][j]     \n",
    "        \n",
    "print(C)        \n",
    "        "
   ]
  },
  {
   "cell_type": "code",
   "execution_count": 4,
   "metadata": {},
   "outputs": [
    {
     "name": "stdout",
     "output_type": "stream",
     "text": [
      "[[2, 4, 4, 6], [11, 8, 10, 10], [13, 12, 12, 15], [20, 22, 24, 26]]\n"
     ]
    }
   ],
   "source": [
    "dim = 4\n",
    "r1 = [1,2,3,4]\n",
    "r2 = [5,6,7,8]\n",
    "r3 = [9,10,11,12]\n",
    "r4 = [13,14,15,16]\n",
    "\n",
    "s1 = [1,2,1,2]\n",
    "s2 = [6,2,3,2]\n",
    "s3 = [4,2,1,3]\n",
    "s4 = [7,8,9,10]\n",
    "\n",
    "A = []\n",
    "A.append(r1)\n",
    "A.append(r2)\n",
    "A.append(r3)\n",
    "A.append(r4)\n",
    "\n",
    "B = []\n",
    "B.append(s1)\n",
    "B.append(s2)\n",
    "B.append(s3)\n",
    "B.append(s4)\n",
    "\n",
    "C = [[0,0,0,0],[0,0,0,0],[0,0,0,0],[0,0,0,0]]\n",
    "for i in range(dim):\n",
    "    for j in range(dim):\n",
    "        C[i][j] = A[i][j]+B[i][j]\n",
    "print(C)        "
   ]
  },
  {
   "cell_type": "markdown",
   "metadata": {},
   "source": [
    "### Matrix Multiplication - 1 & 2."
   ]
  },
  {
   "cell_type": "code",
   "execution_count": 5,
   "metadata": {},
   "outputs": [
    {
     "name": "stdout",
     "output_type": "stream",
     "text": [
      "[[25, 12, 10], [58, 30, 25], [91, 48, 40]]\n"
     ]
    }
   ],
   "source": [
    "dim = 3\n",
    "r1 = [1,2,3]\n",
    "r2 = [4,5,6]\n",
    "r3 = [7,8,9]\n",
    "\n",
    "s1 = [1,2,1]\n",
    "s2 = [6,2,3]\n",
    "s3 = [4,2,1]\n",
    "\n",
    "A = []\n",
    "B = []\n",
    "A.append(r1)\n",
    "A.append(r2)\n",
    "A.append(r3)\n",
    "\n",
    "B.append(s1)\n",
    "B.append(s2)\n",
    "B.append(s3)\n",
    "C = [[0,0,0],[0,0,0],[0,0,0]]\n",
    "for i in range(dim):\n",
    "    for j in range(dim):\n",
    "        for k in range(dim):\n",
    "            C[i][j] = C[i][j]+A[i][k]*B[k][j]\n",
    "print(C)"
   ]
  },
  {
   "cell_type": "code",
   "execution_count": 6,
   "metadata": {},
   "outputs": [
    {
     "name": "stdout",
     "output_type": "stream",
     "text": [
      "[[25 12 10]\n",
      " [58 30 25]\n",
      " [91 48 40]]\n"
     ]
    }
   ],
   "source": [
    "#Alternatively...\n",
    "import numpy as np\n",
    "X = np.mat(A)\n",
    "Y = np.mat(B)\n",
    "print(X*Y)"
   ]
  }
 ],
 "metadata": {
  "kernelspec": {
   "display_name": "Python 3",
   "language": "python",
   "name": "python3"
  },
  "language_info": {
   "codemirror_mode": {
    "name": "ipython",
    "version": 3
   },
   "file_extension": ".py",
   "mimetype": "text/x-python",
   "name": "python",
   "nbconvert_exporter": "python",
   "pygments_lexer": "ipython3",
   "version": "3.8.5"
  }
 },
 "nbformat": 4,
 "nbformat_minor": 4
}
