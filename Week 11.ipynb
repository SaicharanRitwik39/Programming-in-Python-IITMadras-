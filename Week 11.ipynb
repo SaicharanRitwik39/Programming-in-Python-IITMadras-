{
 "cells": [
  {
   "cell_type": "markdown",
   "metadata": {},
   "source": [
    "### Exception Handling."
   ]
  },
  {
   "cell_type": "code",
   "execution_count": 2,
   "metadata": {},
   "outputs": [
    {
     "name": "stdout",
     "output_type": "stream",
     "text": [
      "3\n",
      "4\n",
      "0.75\n",
      "Invalid file name. Please check again.\n"
     ]
    }
   ],
   "source": [
    "a = int(input())\n",
    "b = int(input())\n",
    "try:\n",
    "    c = a/b\n",
    "    print(c)\n",
    "    f = open('abc.txt', 'r')\n",
    "except ZeroDivisionError:\n",
    "    print('Invalid input, divisor cannot be zero.')\n",
    "except NameError:\n",
    "    print('Variable not defined.')\n",
    "except FileNotFoundError:\n",
    "    print('Invalid file name. Please check again.')\n",
    "except:\n",
    "    print('Something went wrong.')"
   ]
  },
  {
   "cell_type": "code",
   "execution_count": 3,
   "metadata": {},
   "outputs": [
    {
     "name": "stdout",
     "output_type": "stream",
     "text": [
      "4\n",
      "4\n",
      "1.0\n",
      "From finally block.\n"
     ]
    }
   ],
   "source": [
    "a = int(input())\n",
    "b = int(input())\n",
    "try:\n",
    "   # f = open('abc.txt', 'r')\n",
    "    c = a/b\n",
    "    print(c)\n",
    "except ZeroDivisionError:\n",
    "    print('Invalid input, divisor cannot be zero.')\n",
    "except:\n",
    "    print('Something went wrong.')\n",
    "finally:  \n",
    "    #f.close()\n",
    "    print('From finally block.')"
   ]
  },
  {
   "cell_type": "code",
   "execution_count": 4,
   "metadata": {},
   "outputs": [
    {
     "name": "stdout",
     "output_type": "stream",
     "text": [
      "45\n",
      "Sike, thats the wrong number.\n"
     ]
    }
   ],
   "source": [
    "a = int(input())\n",
    "if a < 18:\n",
    "    raise Exception('You are underage, can not vote.')\n",
    "else:\n",
    "    print('Sike, thats the wrong number.')"
   ]
  },
  {
   "cell_type": "markdown",
   "metadata": {},
   "source": [
    "### Functional Programming - Part 1"
   ]
  },
  {
   "cell_type": "code",
   "execution_count": 5,
   "metadata": {},
   "outputs": [
    {
     "name": "stdout",
     "output_type": "stream",
     "text": [
      "mango\n",
      "apple\n",
      "banana\n",
      "orange\n",
      "pineapple\n",
      "watermelon\n",
      "guava\n",
      "kiwi\n"
     ]
    }
   ],
   "source": [
    "fruits = [\"mango\", \"apple\", \"banana\", \"orange\", \"pineapple\", \"watermelon\", \"guava\", \"kiwi\"]\n",
    "for fruit in fruits:\n",
    "    print(fruit) "
   ]
  },
  {
   "cell_type": "code",
   "execution_count": 6,
   "metadata": {},
   "outputs": [
    {
     "name": "stdout",
     "output_type": "stream",
     "text": [
      "<list_iterator object at 0x000001F392C6C070>\n",
      "mango\n",
      "apple\n"
     ]
    }
   ],
   "source": [
    "fruits = [\"mango\", \"apple\", \"banana\", \"orange\", \"pineapple\", \"watermelon\", \"guava\", \"kiwi\"]\n",
    "basket = iter(fruits)\n",
    "print(basket)\n",
    "print(next(basket))\n",
    "print(next(basket))"
   ]
  },
  {
   "cell_type": "code",
   "execution_count": 7,
   "metadata": {},
   "outputs": [
    {
     "name": "stdout",
     "output_type": "stream",
     "text": [
      "0 0\n",
      "1 1\n",
      "4 8\n",
      "9 27\n"
     ]
    }
   ],
   "source": [
    "# Generator Code.\n",
    "def square(limit):\n",
    "    x = 0\n",
    "    while x < limit:\n",
    "        yield x*x\n",
    "        yield x*x*x\n",
    "        x+=1\n",
    "a = square(5)\n",
    "print(next(a), next(a))\n",
    "print(next(a), next(a))\n",
    "print(next(a), next(a))\n",
    "print(next(a), next(a))"
   ]
  },
  {
   "cell_type": "markdown",
   "metadata": {},
   "source": [
    "### Functional Programming - Part 2"
   ]
  },
  {
   "cell_type": "code",
   "execution_count": 8,
   "metadata": {},
   "outputs": [
    {
     "name": "stdout",
     "output_type": "stream",
     "text": [
      "20\n"
     ]
    }
   ],
   "source": [
    "a = 100\n",
    "b = 20\n",
    "'''\n",
    " if a < b:\n",
    "    small = a\n",
    " else:\n",
    "    small = b\n",
    "'''\n",
    "small = a if a < b else b\n",
    "print(small)"
   ]
  },
  {
   "cell_type": "code",
   "execution_count": 9,
   "metadata": {},
   "outputs": [
    {
     "name": "stdout",
     "output_type": "stream",
     "text": [
      "5\n",
      "4\n",
      "3\n",
      "2\n",
      "1\n"
     ]
    }
   ],
   "source": [
    "a = 5\n",
    "while a > 0: print(a); a-=1"
   ]
  },
  {
   "cell_type": "code",
   "execution_count": 10,
   "metadata": {},
   "outputs": [
    {
     "name": "stdout",
     "output_type": "stream",
     "text": [
      "['Mango', 'Banana', 'Orange', 'Pineapple', 'Watermelon']\n"
     ]
    }
   ],
   "source": [
    "# List Comprehension.\n",
    "fruits = [\"mango\", \"apple\", \"banana\", \"orange\", \"pineapple\", \"watermelon\", \"guava\", \"kiwi\"]\n",
    "newlist = [fruit.capitalize() for fruit in fruits if 'n' in fruit]\n",
    "print(newlist)"
   ]
  },
  {
   "cell_type": "markdown",
   "metadata": {},
   "source": [
    "### Functional Programming - Part 3"
   ]
  },
  {
   "cell_type": "code",
   "execution_count": 12,
   "metadata": {},
   "outputs": [
    {
     "name": "stdout",
     "output_type": "stream",
     "text": [
      "30\n",
      "-10\n",
      "200\n",
      "0.5\n",
      "<class 'function'>\n"
     ]
    }
   ],
   "source": [
    "add = lambda x,y: x+y\n",
    "sub = lambda x,y: x-y\n",
    "mul = lambda x,y: x*y\n",
    "div = lambda x,y: x/y\n",
    "print(add(10,20))\n",
    "print(sub(10,20))\n",
    "print(mul(10,20))\n",
    "print(div(10,20))\n",
    "print(type(add))"
   ]
  },
  {
   "cell_type": "code",
   "execution_count": 13,
   "metadata": {},
   "outputs": [
    {
     "name": "stdout",
     "output_type": "stream",
     "text": [
      "(0, 'mango')\n",
      "(1, 'apple')\n",
      "(2, 'banana')\n",
      "(3, 'orange')\n",
      "(4, 'pineapple')\n",
      "(5, 'watermelon')\n",
      "(6, 'guava')\n",
      "(7, 'kiwi')\n"
     ]
    }
   ],
   "source": [
    "fruits = [\"mango\", \"apple\", \"banana\", \"orange\", \"pineapple\", \"watermelon\", \"guava\", \"kiwi\"]\n",
    "for fruit in enumerate(fruits):\n",
    "    print(fruit)"
   ]
  },
  {
   "cell_type": "code",
   "execution_count": 16,
   "metadata": {},
   "outputs": [
    {
     "name": "stdout",
     "output_type": "stream",
     "text": [
      "<zip object at 0x000001F392D58DC0>\n",
      "[('mango', 5), ('apple', 5), ('banana', 6), ('orange', 6), ('pineapple', 9), ('watermelon', 10), ('guava', 5), ('kiwi', 4)]\n",
      "{'mango': 5, 'apple': 5, 'banana': 6, 'orange': 6, 'pineapple': 9, 'watermelon': 10, 'guava': 5, 'kiwi': 4}\n"
     ]
    }
   ],
   "source": [
    "fruits = [\"mango\", \"apple\", \"banana\", \"orange\", \"pineapple\", \"watermelon\", \"guava\", \"kiwi\"]\n",
    "size = [5,5,6,6,9,10,5,4]\n",
    "print(zip(fruits,size))\n",
    "print(list(zip(fruits,size)))\n",
    "print(dict(zip(fruits,size)))"
   ]
  },
  {
   "cell_type": "code",
   "execution_count": 19,
   "metadata": {},
   "outputs": [
    {
     "name": "stdout",
     "output_type": "stream",
     "text": [
      "[5, 10, 15, 20, 25, 30]\n"
     ]
    }
   ],
   "source": [
    "a = [10,20,30,40,50,60]\n",
    "b = [5,10,15,20,25,30]\n",
    "def sub(x,y):\n",
    "    return x-y\n",
    "c = map(sub,a,b)\n",
    "print(list(c))"
   ]
  },
  {
   "cell_type": "code",
   "execution_count": 22,
   "metadata": {},
   "outputs": [
    {
     "name": "stdout",
     "output_type": "stream",
     "text": [
      "[5.0, 3.0, 9.0]\n"
     ]
    }
   ],
   "source": [
    "import math\n",
    "a = [25,-16,9,81,-100]\n",
    "def square_root(n):\n",
    "    return math.sqrt(n)\n",
    "def is_positive(n):\n",
    "    if n >= 0:\n",
    "        return n\n",
    "c = map(square_root, filter(is_positive,a))\n",
    "print(list(c))"
   ]
  },
  {
   "cell_type": "code",
   "execution_count": null,
   "metadata": {},
   "outputs": [],
   "source": []
  }
 ],
 "metadata": {
  "kernelspec": {
   "display_name": "Python 3",
   "language": "python",
   "name": "python3"
  },
  "language_info": {
   "codemirror_mode": {
    "name": "ipython",
    "version": 3
   },
   "file_extension": ".py",
   "mimetype": "text/x-python",
   "name": "python",
   "nbconvert_exporter": "python",
   "pygments_lexer": "ipython3",
   "version": "3.8.5"
  }
 },
 "nbformat": 4,
 "nbformat_minor": 4
}
