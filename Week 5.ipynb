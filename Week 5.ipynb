{
 "cells": [
  {
   "cell_type": "markdown",
   "metadata": {},
   "source": [
    "### Introduction to functions."
   ]
  },
  {
   "cell_type": "code",
   "execution_count": 1,
   "metadata": {},
   "outputs": [
    {
     "name": "stdout",
     "output_type": "stream",
     "text": [
      "3\n"
     ]
    }
   ],
   "source": [
    "def add(a,b):\n",
    "    print(a+b)\n",
    "add(1,2)    "
   ]
  },
  {
   "cell_type": "code",
   "execution_count": 2,
   "metadata": {},
   "outputs": [
    {
     "name": "stdout",
     "output_type": "stream",
     "text": [
      "1\n"
     ]
    }
   ],
   "source": [
    "def sub(a,b):\n",
    "    print(a-b)\n",
    "sub(2,1)    "
   ]
  },
  {
   "cell_type": "code",
   "execution_count": 3,
   "metadata": {},
   "outputs": [
    {
     "name": "stdout",
     "output_type": "stream",
     "text": [
      "198.0\n"
     ]
    }
   ],
   "source": [
    "def discount(cost,d):\n",
    "    ans = cost*(1-d/100)\n",
    "    print(ans)\n",
    "discount(200,1)    "
   ]
  },
  {
   "cell_type": "code",
   "execution_count": 4,
   "metadata": {},
   "outputs": [
    {
     "name": "stdout",
     "output_type": "stream",
     "text": [
      "17\n",
      "27\n"
     ]
    }
   ],
   "source": [
    "def add(a,b):\n",
    "    ans = a+b\n",
    "    return(ans)\n",
    "a = 2\n",
    "b = 15\n",
    "print(add(a,b))\n",
    "ans = add(a,b)+10  #Here a value is assigned to the function.\n",
    "print(ans)"
   ]
  },
  {
   "cell_type": "code",
   "execution_count": 5,
   "metadata": {},
   "outputs": [
    {
     "name": "stdout",
     "output_type": "stream",
     "text": [
      "17\n"
     ]
    },
    {
     "ename": "TypeError",
     "evalue": "unsupported operand type(s) for +: 'NoneType' and 'int'",
     "output_type": "error",
     "traceback": [
      "\u001b[1;31m---------------------------------------------------------------------------\u001b[0m",
      "\u001b[1;31mTypeError\u001b[0m                                 Traceback (most recent call last)",
      "\u001b[1;32m<ipython-input-5-6a1b22330102>\u001b[0m in \u001b[0;36m<module>\u001b[1;34m\u001b[0m\n\u001b[0;32m      5\u001b[0m \u001b[0ma\u001b[0m \u001b[1;33m=\u001b[0m \u001b[1;36m2\u001b[0m\u001b[1;33m\u001b[0m\u001b[1;33m\u001b[0m\u001b[0m\n\u001b[0;32m      6\u001b[0m \u001b[0mb\u001b[0m \u001b[1;33m=\u001b[0m \u001b[1;36m15\u001b[0m\u001b[1;33m\u001b[0m\u001b[1;33m\u001b[0m\u001b[0m\n\u001b[1;32m----> 7\u001b[1;33m \u001b[0mans\u001b[0m \u001b[1;33m=\u001b[0m \u001b[0madd\u001b[0m\u001b[1;33m(\u001b[0m\u001b[0ma\u001b[0m\u001b[1;33m,\u001b[0m\u001b[0mb\u001b[0m\u001b[1;33m)\u001b[0m\u001b[1;33m+\u001b[0m\u001b[1;36m10\u001b[0m\u001b[1;33m\u001b[0m\u001b[1;33m\u001b[0m\u001b[0m\n\u001b[0m\u001b[0;32m      8\u001b[0m \u001b[0mprint\u001b[0m\u001b[1;33m(\u001b[0m\u001b[0mans\u001b[0m\u001b[1;33m)\u001b[0m\u001b[1;33m\u001b[0m\u001b[1;33m\u001b[0m\u001b[0m\n",
      "\u001b[1;31mTypeError\u001b[0m: unsupported operand type(s) for +: 'NoneType' and 'int'"
     ]
    }
   ],
   "source": [
    "#On the other hand, the following would generate an error:\n",
    "def add(a,b):\n",
    "    ans = a+b\n",
    "    print(ans)\n",
    "a = 2\n",
    "b = 15\n",
    "ans = add(a,b)+10\n",
    "print(ans)"
   ]
  },
  {
   "cell_type": "code",
   "execution_count": null,
   "metadata": {},
   "outputs": [],
   "source": [
    "def discount(cost,d):\n",
    "    ans = cost*(1-d/100)\n",
    "    return ans\n",
    "c = int(input(\"Enter the cost:\"))\n",
    "d = int(input(\"Enter the discount:\")) \n",
    "discount(c,d)"
   ]
  },
  {
   "cell_type": "markdown",
   "metadata": {},
   "source": [
    "### More Examples of Functions."
   ]
  },
  {
   "cell_type": "code",
   "execution_count": 6,
   "metadata": {},
   "outputs": [
    {
     "data": {
      "text/plain": [
       "-3"
      ]
     },
     "execution_count": 6,
     "metadata": {},
     "output_type": "execute_result"
    }
   ],
   "source": [
    "def list_min(l):\n",
    "    mini = l[0]\n",
    "    for i in range(len(l)):\n",
    "        if mini > l[i]:\n",
    "            mini = l[i]\n",
    "    return mini   \n",
    "l = [2,3,4,68,-3]\n",
    "list_min(l)"
   ]
  },
  {
   "cell_type": "code",
   "execution_count": 7,
   "metadata": {},
   "outputs": [
    {
     "data": {
      "text/plain": [
       "68"
      ]
     },
     "execution_count": 7,
     "metadata": {},
     "output_type": "execute_result"
    }
   ],
   "source": [
    "def list_max(l):\n",
    "    max = l[0]\n",
    "    for i in range(len(l)):\n",
    "        if max < l[i]:\n",
    "            max = l[i]\n",
    "    return max\n",
    "l = [2,3,4,68,-3]\n",
    "list_max(l)"
   ]
  },
  {
   "cell_type": "code",
   "execution_count": 8,
   "metadata": {},
   "outputs": [
    {
     "name": "stdout",
     "output_type": "stream",
     "text": [
      "[4, 5, 6, 2, 3, 4]\n",
      "[2, 3, 4, 4, 5, 6]\n"
     ]
    }
   ],
   "source": [
    "def list_appendbefore(l,z):\n",
    "    newl = []\n",
    "    for i in range(len(z)):\n",
    "        newl.append(z[i])\n",
    "    for i in range(len(l)):\n",
    "        newl.append(l[i])\n",
    "    return newl\n",
    "l1 = [2,3,4]\n",
    "l2 = [4,5,6]\n",
    "print(list_appendbefore(l1,l2))\n",
    "print(list_appendbefore(l2,l1))"
   ]
  },
  {
   "cell_type": "code",
   "execution_count": 9,
   "metadata": {},
   "outputs": [
    {
     "name": "stdout",
     "output_type": "stream",
     "text": [
      "[1, 2, 3, 4, 4, 5, 6, 7, 8]\n",
      "[4, 5, 6, 7, 8, 1, 2, 3, 4]\n"
     ]
    }
   ],
   "source": [
    "def list_appendend(l,z):\n",
    "    newl = []\n",
    "    for i in range(len(l)):\n",
    "        newl.append(l[i])\n",
    "    for i in range(len(z)):\n",
    "        newl.append(z[i])\n",
    "    return newl\n",
    "l1 = [1,2,3,4]\n",
    "l2 = [4,5,6,7,8]\n",
    "print(list_appendend(l1,l2))\n",
    "print(list_appendend(l2,l1))"
   ]
  },
  {
   "cell_type": "code",
   "execution_count": 10,
   "metadata": {},
   "outputs": [
    {
     "data": {
      "text/plain": [
       "15.8"
      ]
     },
     "execution_count": 10,
     "metadata": {},
     "output_type": "execute_result"
    }
   ],
   "source": [
    "def average(l):\n",
    "    sum = 0\n",
    "    for i in range(len(l)):\n",
    "        sum += l[i]\n",
    "    return(sum/len(l))\n",
    "l = [1,2,3,4,69] #Heheh\n",
    "average(l)"
   ]
  },
  {
   "cell_type": "markdown",
   "metadata": {},
   "source": [
    "### Sorting using functions."
   ]
  },
  {
   "cell_type": "code",
   "execution_count": 11,
   "metadata": {},
   "outputs": [
    {
     "data": {
      "text/plain": [
       "[-3, 1, 12]"
      ]
     },
     "execution_count": 11,
     "metadata": {},
     "output_type": "execute_result"
    }
   ],
   "source": [
    "def min_list(l):\n",
    "    mini = l[0]\n",
    "    for i in range(len(l)):\n",
    "        if mini > l[i]:\n",
    "            mini = l[i]\n",
    "    return mini\n",
    "\n",
    "def obvious_sort(l):\n",
    "    x = []\n",
    "    while(len(l) > 0):\n",
    "        mini = min_list(l)\n",
    "        x.append(mini)\n",
    "        l.remove(mini)\n",
    "    return x    \n",
    "\n",
    "#def obvious_sort(l):\n",
    "#    x = []\n",
    "#    while(len(l) > 0):\n",
    "#        mini = l[0]\n",
    "#        for i in range(len(l)):\n",
    "#            if l[i] < mini:\n",
    "#                mini = l[i]\n",
    "#        x.append(mini)\n",
    "#        l.remove(mini)\n",
    "#    return x\n",
    "l = [1,12,-3]\n",
    "obvious_sort(l)"
   ]
  },
  {
   "cell_type": "markdown",
   "metadata": {},
   "source": [
    "### Matrix multiplication using Functions."
   ]
  },
  {
   "cell_type": "code",
   "execution_count": 12,
   "metadata": {},
   "outputs": [
    {
     "data": {
      "text/plain": [
       "[[0, 0, 0, 0], [0, 0, 0, 0], [0, 0, 0, 0], [0, 0, 0, 0]]"
      ]
     },
     "execution_count": 12,
     "metadata": {},
     "output_type": "execute_result"
    }
   ],
   "source": [
    "def initialize_mat(dim):\n",
    "    C = []\n",
    "    for i in range(dim):\n",
    "        C.append([])\n",
    "    for i in range(dim):\n",
    "        for j in range(dim):\n",
    "             C[i].append(0)\n",
    "    return C  \n",
    "initialize_mat(4)"
   ]
  },
  {
   "cell_type": "code",
   "execution_count": 13,
   "metadata": {},
   "outputs": [
    {
     "data": {
      "text/plain": [
       "32"
      ]
     },
     "execution_count": 13,
     "metadata": {},
     "output_type": "execute_result"
    }
   ],
   "source": [
    "def dot_product(u,v):\n",
    "    ans = 0\n",
    "    dim = len(u)\n",
    "    for i in range(dim):\n",
    "        ans += u[i]*v[i]\n",
    "    return ans    \n",
    "\n",
    "x = [1,2,3]\n",
    "y = [4,5,6]\n",
    "dot_product(x,y)"
   ]
  },
  {
   "cell_type": "code",
   "execution_count": 14,
   "metadata": {},
   "outputs": [
    {
     "data": {
      "text/plain": [
       "[7, 8, 9]"
      ]
     },
     "execution_count": 14,
     "metadata": {},
     "output_type": "execute_result"
    }
   ],
   "source": [
    "def row(M,i):\n",
    "    dim = len(M)\n",
    "    l = []\n",
    "    for k in range(dim):\n",
    "        l.append(M[i][k])\n",
    "    return l \n",
    "A = [[1,2,3],[4,5,6],[7,8,9]]\n",
    "row(A,2)"
   ]
  },
  {
   "cell_type": "code",
   "execution_count": 15,
   "metadata": {},
   "outputs": [
    {
     "data": {
      "text/plain": [
       "[2, 5, 8]"
      ]
     },
     "execution_count": 15,
     "metadata": {},
     "output_type": "execute_result"
    }
   ],
   "source": [
    "def column(M,j):\n",
    "    dim = len(M)\n",
    "    l = []\n",
    "    for k in range(dim):\n",
    "        l.append(M[k][j])\n",
    "    return l    \n",
    "A = [[1,2,3],[4,5,6],[7,8,9]]\n",
    "column(A,1)"
   ]
  },
  {
   "cell_type": "code",
   "execution_count": 16,
   "metadata": {},
   "outputs": [
    {
     "data": {
      "text/plain": [
       "[[84, 90, 96], [201, 216, 231], [318, 342, 366]]"
      ]
     },
     "execution_count": 16,
     "metadata": {},
     "output_type": "execute_result"
    }
   ],
   "source": [
    "def mat_mul(A,B):\n",
    "    dim = len(A)\n",
    "    C = initialize_mat(dim)\n",
    "    for i in range(dim):\n",
    "        for j in range(dim):\n",
    "            C[i][j] = dot_product(row(A,i),column(B,j))\n",
    "    return C        \n",
    "A = [[1,2,3],[4,5,6],[7,8,9]]\n",
    "B = [[10,11,12],[13,14,15],[16,17,18]]\n",
    "mat_mul(A,B)"
   ]
  },
  {
   "cell_type": "markdown",
   "metadata": {},
   "source": [
    "### Theoretical Introduction to Recursion."
   ]
  },
  {
   "cell_type": "code",
   "execution_count": 17,
   "metadata": {},
   "outputs": [],
   "source": [
    "# Mathematical Statements are Common Sense complicated!!!"
   ]
  },
  {
   "cell_type": "markdown",
   "metadata": {},
   "source": [
    "### Recursion - An Illustration."
   ]
  },
  {
   "cell_type": "code",
   "execution_count": 18,
   "metadata": {},
   "outputs": [
    {
     "name": "stdout",
     "output_type": "stream",
     "text": [
      "3628800\n"
     ]
    }
   ],
   "source": [
    "n = 10\n",
    "prod = 1\n",
    "for i in range(1,n+1):\n",
    "    prod = prod*i\n",
    "print(prod)    "
   ]
  },
  {
   "cell_type": "code",
   "execution_count": 19,
   "metadata": {},
   "outputs": [
    {
     "data": {
      "text/plain": [
       "55"
      ]
     },
     "execution_count": 19,
     "metadata": {},
     "output_type": "execute_result"
    }
   ],
   "source": [
    "def sum(n):\n",
    "    sum = 0\n",
    "    for i in range(n+1):\n",
    "        sum += i\n",
    "    return(sum)\n",
    "n = 10\n",
    "sum(10)"
   ]
  },
  {
   "cell_type": "code",
   "execution_count": 20,
   "metadata": {},
   "outputs": [
    {
     "data": {
      "text/plain": [
       "55"
      ]
     },
     "execution_count": 20,
     "metadata": {},
     "output_type": "execute_result"
    }
   ],
   "source": [
    "def sum(n):\n",
    "    if(n == 1):\n",
    "        return(1)\n",
    "    else:\n",
    "        return n+sum(n-1)\n",
    "sum(10)    "
   ]
  },
  {
   "cell_type": "code",
   "execution_count": 21,
   "metadata": {},
   "outputs": [
    {
     "name": "stdout",
     "output_type": "stream",
     "text": [
      "2662.0\n"
     ]
    }
   ],
   "source": [
    "def comp(p,n):\n",
    "    if(n == 1):\n",
    "        return p*1.1\n",
    "    else:\n",
    "        return(comp(p,n-1))*1.1\n",
    "print(comp(2000,3))    "
   ]
  },
  {
   "cell_type": "code",
   "execution_count": 22,
   "metadata": {},
   "outputs": [
    {
     "data": {
      "text/plain": [
       "6"
      ]
     },
     "execution_count": 22,
     "metadata": {},
     "output_type": "execute_result"
    }
   ],
   "source": [
    "def fact(n):\n",
    "    if(n == 1):\n",
    "        return 1\n",
    "    else:\n",
    "        return fact(n-1)*n\n",
    "fact(3)    "
   ]
  },
  {
   "cell_type": "markdown",
   "metadata": {},
   "source": [
    "### Types of function arguments."
   ]
  },
  {
   "cell_type": "code",
   "execution_count": 23,
   "metadata": {},
   "outputs": [
    {
     "name": "stdout",
     "output_type": "stream",
     "text": [
      "10\n"
     ]
    }
   ],
   "source": [
    "def add(a,b,c):\n",
    "    return(a+b-c)\n",
    "print(add(20,30,40))"
   ]
  },
  {
   "cell_type": "code",
   "execution_count": 24,
   "metadata": {},
   "outputs": [
    {
     "name": "stdout",
     "output_type": "stream",
     "text": [
      "10\n"
     ]
    }
   ],
   "source": [
    "def add(c,a,b):\n",
    "    return(a+b-c)\n",
    "print(add(a = 20, b = 30, c = 40))"
   ]
  },
  {
   "cell_type": "code",
   "execution_count": 25,
   "metadata": {},
   "outputs": [
    {
     "name": "stdout",
     "output_type": "stream",
     "text": [
      "10\n",
      "0\n",
      "20\n",
      "20\n"
     ]
    }
   ],
   "source": [
    "def add(c, a = 20, b = 30):\n",
    "    return(a+b-c)\n",
    "print(add(40))\n",
    "print(add(40,10))\n",
    "print(add(40,10,50))\n",
    "print(add(40, b = 10, a = 50))"
   ]
  },
  {
   "cell_type": "markdown",
   "metadata": {},
   "source": [
    "### Scope of Variables."
   ]
  },
  {
   "cell_type": "code",
   "execution_count": 26,
   "metadata": {},
   "outputs": [
    {
     "name": "stdout",
     "output_type": "stream",
     "text": [
      "5\n",
      "Value of x in function 1 10\n",
      "Value of x in function 2 15\n",
      "5\n"
     ]
    }
   ],
   "source": [
    "def myFunction1(x):\n",
    "    x = x*2\n",
    "    print(\"Value of x in function 1\", x)\n",
    "    \n",
    "def myFunction2(x):\n",
    "    x = x*3\n",
    "    print(\"Value of x in function 2\", x)\n",
    "    \n",
    "x = 5\n",
    "print(x)\n",
    "myFunction1(x)\n",
    "myFunction2(x)\n",
    "print(x)"
   ]
  },
  {
   "cell_type": "code",
   "execution_count": 29,
   "metadata": {},
   "outputs": [
    {
     "name": "stdout",
     "output_type": "stream",
     "text": [
      "5\n",
      "Value of x in function 1 10\n",
      "Value of x in function 2 30\n",
      "30\n"
     ]
    }
   ],
   "source": [
    "def myFunction1():\n",
    "    global x\n",
    "    x = x*2\n",
    "    print(\"Value of x in function 1\", x)\n",
    "    \n",
    "def myFunction2():\n",
    "    global x\n",
    "    x = x*3\n",
    "    print(\"Value of x in function 2\", x)\n",
    "    \n",
    "x = 5\n",
    "print(x)\n",
    "myFunction1()\n",
    "myFunction2()\n",
    "print(x)"
   ]
  },
  {
   "cell_type": "code",
   "execution_count": null,
   "metadata": {},
   "outputs": [],
   "source": []
  }
 ],
 "metadata": {
  "kernelspec": {
   "display_name": "Python 3",
   "language": "python",
   "name": "python3"
  },
  "language_info": {
   "codemirror_mode": {
    "name": "ipython",
    "version": 3
   },
   "file_extension": ".py",
   "mimetype": "text/x-python",
   "name": "python",
   "nbconvert_exporter": "python",
   "pygments_lexer": "ipython3",
   "version": "3.8.5"
  }
 },
 "nbformat": 4,
 "nbformat_minor": 4
}
