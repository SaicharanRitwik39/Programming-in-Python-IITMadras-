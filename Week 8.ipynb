{
 "cells": [
  {
   "cell_type": "markdown",
   "metadata": {},
   "source": [
    "### Recursion: Find 0 in a List."
   ]
  },
  {
   "cell_type": "code",
   "execution_count": 1,
   "metadata": {},
   "outputs": [
    {
     "name": "stdout",
     "output_type": "stream",
     "text": [
      "1\n",
      "0\n"
     ]
    }
   ],
   "source": [
    "def check0(L):\n",
    "    if(len(L) == 0):\n",
    "        return 0\n",
    "    elif(L[0] == 0):\n",
    "        return 1\n",
    "    else:\n",
    "        return(check0(L[1:len(L)]))\n",
    "print(check0([1,2,3,4,5,6,7,8,90,0])) \n",
    "print(check0([1,2,3]))"
   ]
  },
  {
   "cell_type": "markdown",
   "metadata": {},
   "source": [
    "### Sorting Recursively."
   ]
  },
  {
   "cell_type": "code",
   "execution_count": 2,
   "metadata": {},
   "outputs": [
    {
     "name": "stdout",
     "output_type": "stream",
     "text": [
      "[1, 2, 3, 4, 5, 23, 42, 69, 72, 420, 690]\n"
     ]
    }
   ],
   "source": [
    "def mini(L):\n",
    "    mini = L[0]\n",
    "    for x in L:\n",
    "        if mini > x:\n",
    "            mini = x\n",
    "    return mini  \n",
    "\n",
    "def sort(L):\n",
    "    if(L == [] or len(L) == 1):\n",
    "        return L\n",
    "    m = mini(L)\n",
    "    L.remove(m)\n",
    "    return([m] + sort(L))\n",
    "\n",
    "L = [69,72,42,420,690,1,2,3,4,5,23]\n",
    "print(sort(L))"
   ]
  },
  {
   "cell_type": "markdown",
   "metadata": {},
   "source": [
    "### Warmup for Binary Search."
   ]
  },
  {
   "cell_type": "code",
   "execution_count": 3,
   "metadata": {},
   "outputs": [
    {
     "data": {
      "text/plain": [
       "1"
      ]
     },
     "execution_count": 3,
     "metadata": {},
     "output_type": "execute_result"
    }
   ],
   "source": [
    "def obvious_search(L,k):\n",
    "    for x in L:\n",
    "        if x == k:\n",
    "            return 1\n",
    "    return 0  \n",
    "L = [1,2,3,4,56]\n",
    "obvious_search(L,56)"
   ]
  },
  {
   "cell_type": "code",
   "execution_count": 4,
   "metadata": {},
   "outputs": [],
   "source": [
    "def sum(n):\n",
    "    ans = 0\n",
    "    for i in range(n):\n",
    "        ans+=i\n",
    "    return ans    "
   ]
  },
  {
   "cell_type": "code",
   "execution_count": 5,
   "metadata": {},
   "outputs": [
    {
     "name": "stdout",
     "output_type": "stream",
     "text": [
      "4950\n",
      "0.0\n"
     ]
    }
   ],
   "source": [
    "import time\n",
    "a=time.time();print(sum(100));b=time.time()\n",
    "print(b-a)"
   ]
  },
  {
   "cell_type": "markdown",
   "metadata": {},
   "source": [
    "### Binary Search Implementation."
   ]
  },
  {
   "cell_type": "code",
   "execution_count": 6,
   "metadata": {},
   "outputs": [
    {
     "data": {
      "text/plain": [
       "0"
      ]
     },
     "execution_count": 6,
     "metadata": {},
     "output_type": "execute_result"
    }
   ],
   "source": [
    "def binary_search(L,k):\n",
    "    begin = 0\n",
    "    end = len(L)-1\n",
    "    while(end-begin > 1):\n",
    "        mid = (begin+end)//2\n",
    "        if(L[mid]==k):\n",
    "            return 1\n",
    "        if(L[mid]>k):\n",
    "            end = mid-1\n",
    "        if(L[mid]<k):\n",
    "            begin=mid+1\n",
    "    if( (L[begin] == k) or (L[end] == k) ):\n",
    "        return 1\n",
    "    else:\n",
    "        return 0\n",
    "L = [1,2,33,4,56,7,69,42]\n",
    "k = 5\n",
    "binary_search(L,k)"
   ]
  },
  {
   "cell_type": "markdown",
   "metadata": {},
   "source": [
    "### Binary Search Recursive Way."
   ]
  },
  {
   "cell_type": "code",
   "execution_count": 11,
   "metadata": {},
   "outputs": [
    {
     "data": {
      "text/plain": [
       "1"
      ]
     },
     "execution_count": 11,
     "metadata": {},
     "output_type": "execute_result"
    }
   ],
   "source": [
    "def rbinarysearch(L,k,begin,end):\n",
    "    if(begin==end):\n",
    "        if(L[begin] == k):\n",
    "            return 1\n",
    "        else:\n",
    "            return 0\n",
    "    if(end-begin == 1):\n",
    "        if(L[begin] == k or L[end] == k):\n",
    "            return 1\n",
    "        else:\n",
    "            return 0\n",
    "        \n",
    "    if(end-begin > 1):\n",
    "        mid = (begin+end)//2\n",
    "        if(L[mid]>k):\n",
    "            end = mid-1\n",
    "        if(L[mid]<k):\n",
    "            begin = mid+1\n",
    "        if(L[mid]==k):\n",
    "            return 1\n",
    "    if(end-begin<0):\n",
    "        return 0\n",
    "    return rbinarysearch(L,k,begin,end)\n",
    "\n",
    "L = [1,2,34,5]\n",
    "k = 34\n",
    "rbinarysearch(L,k,0,4)"
   ]
  },
  {
   "cell_type": "code",
   "execution_count": null,
   "metadata": {},
   "outputs": [],
   "source": []
  }
 ],
 "metadata": {
  "kernelspec": {
   "display_name": "Python 3",
   "language": "python",
   "name": "python3"
  },
  "language_info": {
   "codemirror_mode": {
    "name": "ipython",
    "version": 3
   },
   "file_extension": ".py",
   "mimetype": "text/x-python",
   "name": "python",
   "nbconvert_exporter": "python",
   "pygments_lexer": "ipython3",
   "version": "3.8.5"
  }
 },
 "nbformat": 4,
 "nbformat_minor": 4
}
