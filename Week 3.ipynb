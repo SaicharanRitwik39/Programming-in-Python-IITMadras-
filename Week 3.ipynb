{
 "cells": [
  {
   "cell_type": "markdown",
   "metadata": {},
   "source": [
    "### Introduction to while loop."
   ]
  },
  {
   "cell_type": "code",
   "execution_count": 1,
   "metadata": {},
   "outputs": [
    {
     "name": "stdout",
     "output_type": "stream",
     "text": [
      "When did India get it's independence (year)?\n",
      "1947\n",
      "You got it right!!!\n"
     ]
    }
   ],
   "source": [
    "print(\"When did India get it's independence (year)?\")\n",
    "year = int(input())\n",
    "while(year != 1947):\n",
    "    print(\"You got it wrong. Enter once again.\")\n",
    "    year = int(input())\n",
    "print(\"You got it right!!!\")    "
   ]
  },
  {
   "cell_type": "markdown",
   "metadata": {},
   "source": [
    "### while to Compute Factorial."
   ]
  },
  {
   "cell_type": "code",
   "execution_count": 2,
   "metadata": {},
   "outputs": [
    {
     "name": "stdout",
     "output_type": "stream",
     "text": [
      "Enter a number:\n",
      "4\n",
      "24\n"
     ]
    }
   ],
   "source": [
    "print(\"Enter a number:\")\n",
    "n = int(input())\n",
    "answer = 1\n",
    "i = 1\n",
    "while(i <= n):\n",
    "    answer*=i\n",
    "    i+=1\n",
    "print(answer)    "
   ]
  },
  {
   "cell_type": "markdown",
   "metadata": {},
   "source": [
    "### Tutorial on while loop."
   ]
  },
  {
   "cell_type": "code",
   "execution_count": 3,
   "metadata": {},
   "outputs": [
    {
     "name": "stdout",
     "output_type": "stream",
     "text": [
      "5\n",
      "120\n"
     ]
    }
   ],
   "source": [
    "# Factorial of a number.\n",
    "num = int(input())\n",
    "fact = 1\n",
    "if (num < 0):\n",
    "    print(\"Not defined.\")\n",
    "else:\n",
    "    while(num > 0):\n",
    "        fact*=num\n",
    "        num = num - 1\n",
    "    print(fact)    "
   ]
  },
  {
   "cell_type": "code",
   "execution_count": 4,
   "metadata": {},
   "outputs": [
    {
     "name": "stdout",
     "output_type": "stream",
     "text": [
      "6\n",
      "1\n"
     ]
    }
   ],
   "source": [
    "# Find number of digits in a given number.\n",
    "num = int(input())\n",
    "count = 1\n",
    "while(num > 9):\n",
    "    num = num//10\n",
    "    count = count+1\n",
    "print(count)    "
   ]
  },
  {
   "cell_type": "code",
   "execution_count": 5,
   "metadata": {},
   "outputs": [
    {
     "name": "stdout",
     "output_type": "stream",
     "text": [
      "5\n"
     ]
    }
   ],
   "source": [
    "#Reverse the digits in the given number.\n",
    "num = int(input())\n",
    "rev = num%10\n",
    "while(num > 0):\n",
    "    num = num//10"
   ]
  },
  {
   "cell_type": "markdown",
   "metadata": {},
   "source": [
    "### Introduction to for loop."
   ]
  },
  {
   "cell_type": "code",
   "execution_count": 9,
   "metadata": {},
   "outputs": [
    {
     "name": "stdout",
     "output_type": "stream",
     "text": [
      "0 Hello India\n",
      "#############\n",
      "1 Hello India\n",
      "#############\n",
      "2 Hello India\n",
      "#############\n",
      "3 Hello India\n",
      "#############\n",
      "4 Hello India\n",
      "#############\n",
      "5 Hello India\n",
      "#############\n",
      "6 Hello India\n",
      "#############\n",
      "7 Hello India\n",
      "#############\n",
      "8 Hello India\n",
      "#############\n",
      "9 Hello India\n",
      "#############\n"
     ]
    }
   ],
   "source": [
    "for i in range(10):\n",
    "    print(i,\"Hello India\")\n",
    "    print(\"#############\")"
   ]
  },
  {
   "cell_type": "code",
   "execution_count": 14,
   "metadata": {},
   "outputs": [
    {
     "name": "stdout",
     "output_type": "stream",
     "text": [
      "Enter a number:4\n",
      "I love India\n",
      "I love the World\n",
      "I love India\n",
      "I love the World\n"
     ]
    }
   ],
   "source": [
    "n = int(input(\"Enter a number:\"))\n",
    "\n",
    "for i in range(n):\n",
    "    if(i%2 == 0):\n",
    "        print(\"I love India\")\n",
    "    else:\n",
    "        print(\"I love the World\")"
   ]
  },
  {
   "cell_type": "markdown",
   "metadata": {},
   "source": [
    "### for loop to add the first n numbers."
   ]
  },
  {
   "cell_type": "code",
   "execution_count": 17,
   "metadata": {},
   "outputs": [
    {
     "name": "stdout",
     "output_type": "stream",
     "text": [
      "Enter a number:7\n",
      "28\n"
     ]
    }
   ],
   "source": [
    "n = int(input(\"Enter a number:\"))\n",
    "ans = 0\n",
    "for i in range(n+1):\n",
    "    ans+=i\n",
    "print(ans)    "
   ]
  },
  {
   "cell_type": "markdown",
   "metadata": {},
   "source": [
    "### for loop for multiplication tables."
   ]
  },
  {
   "cell_type": "code",
   "execution_count": 22,
   "metadata": {},
   "outputs": [
    {
     "name": "stdout",
     "output_type": "stream",
     "text": [
      "Enter a number:4\n",
      "2 X 1 = 2\n",
      "2 X 2 = 4\n",
      "2 X 3 = 6\n",
      "2 X 4 = 8\n"
     ]
    }
   ],
   "source": [
    "n = int(input(\"Enter a number:\"))\n",
    "for i in range(n):\n",
    "    print(\"2 X\", i+1, \"=\", (i+1)*2)"
   ]
  },
  {
   "cell_type": "code",
   "execution_count": 23,
   "metadata": {},
   "outputs": [
    {
     "name": "stdout",
     "output_type": "stream",
     "text": [
      "2 X 15 = 30\n",
      "2 X 16 = 32\n",
      "2 X 17 = 34\n",
      "2 X 18 = 36\n",
      "2 X 19 = 38\n",
      "2 X 20 = 40\n",
      "2 X 21 = 42\n",
      "2 X 22 = 44\n",
      "2 X 23 = 46\n",
      "2 X 24 = 48\n",
      "2 X 25 = 50\n",
      "2 X 26 = 52\n",
      "2 X 27 = 54\n",
      "2 X 28 = 56\n",
      "2 X 29 = 58\n",
      "2 X 30 = 60\n",
      "2 X 31 = 62\n",
      "2 X 32 = 64\n",
      "2 X 33 = 66\n",
      "2 X 34 = 68\n"
     ]
    }
   ],
   "source": [
    "for i in range(15,35):\n",
    "    print(\"2 X\", i, \"=\", 2*i)"
   ]
  },
  {
   "cell_type": "markdown",
   "metadata": {},
   "source": [
    "### More on range and for loop without range."
   ]
  },
  {
   "cell_type": "code",
   "execution_count": 1,
   "metadata": {},
   "outputs": [
    {
     "name": "stdout",
     "output_type": "stream",
     "text": [
      "1\n",
      "3\n",
      "5\n",
      "7\n",
      "9\n"
     ]
    }
   ],
   "source": [
    "for x in range(1,11,2):\n",
    "    print(x)"
   ]
  },
  {
   "cell_type": "code",
   "execution_count": 2,
   "metadata": {},
   "outputs": [
    {
     "name": "stdout",
     "output_type": "stream",
     "text": [
      "1\n",
      "4\n",
      "7\n",
      "10\n"
     ]
    }
   ],
   "source": [
    "for x in range(1,11,3):\n",
    "    print(x)"
   ]
  },
  {
   "cell_type": "code",
   "execution_count": 3,
   "metadata": {},
   "outputs": [
    {
     "name": "stdout",
     "output_type": "stream",
     "text": [
      "0\n",
      "1\n",
      "2\n",
      "3\n",
      "4\n",
      "5\n",
      "6\n",
      "7\n",
      "8\n",
      "9\n"
     ]
    }
   ],
   "source": [
    "for x in range(10):\n",
    "    print(x)"
   ]
  },
  {
   "cell_type": "code",
   "execution_count": 5,
   "metadata": {},
   "outputs": [
    {
     "name": "stdout",
     "output_type": "stream",
     "text": [
      "1\n",
      "2\n",
      "3\n",
      "4\n",
      "5\n",
      "6\n",
      "7\n",
      "8\n",
      "9\n"
     ]
    }
   ],
   "source": [
    "for x in range(1,10):\n",
    "    print(x)"
   ]
  },
  {
   "cell_type": "code",
   "execution_count": 6,
   "metadata": {},
   "outputs": [
    {
     "name": "stdout",
     "output_type": "stream",
     "text": [
      "9\n",
      "7\n",
      "5\n",
      "3\n",
      "1\n"
     ]
    }
   ],
   "source": [
    "for x in range(9, -1, -2):\n",
    "    print(x)"
   ]
  },
  {
   "cell_type": "code",
   "execution_count": 9,
   "metadata": {},
   "outputs": [
    {
     "name": "stdout",
     "output_type": "stream",
     "text": [
      "I\n",
      "n\n",
      "d\n",
      "i\n",
      "a\n",
      "\n",
      "I\n",
      "n\n",
      "d\n",
      "i\n",
      "a\n"
     ]
    }
   ],
   "source": [
    "country = 'India'\n",
    "for letter in country:\n",
    "    print(letter)\n",
    "\n",
    "print('')\n",
    "print(country[0])   \n",
    "print(country[1])\n",
    "print(country[2])\n",
    "print(country[3])\n",
    "print(country[4])"
   ]
  },
  {
   "cell_type": "markdown",
   "metadata": {},
   "source": [
    "### Formatted Printing."
   ]
  },
  {
   "cell_type": "code",
   "execution_count": 11,
   "metadata": {},
   "outputs": [
    {
     "name": "stdout",
     "output_type": "stream",
     "text": [
      "0 1 2 3 4 5 6 7 8 9 "
     ]
    }
   ],
   "source": [
    "for x in range(10):\n",
    "    print(x, end = ' ')"
   ]
  },
  {
   "cell_type": "code",
   "execution_count": 16,
   "metadata": {},
   "outputs": [
    {
     "name": "stdout",
     "output_type": "stream",
     "text": [
      "Today's date is: 10/5/2021\n"
     ]
    }
   ],
   "source": [
    "d = 10\n",
    "m = 5\n",
    "y = 2021\n",
    "print(\"Today's date is:\", end = ' ')\n",
    "print(d,m,y, sep = '/')"
   ]
  },
  {
   "cell_type": "code",
   "execution_count": 19,
   "metadata": {},
   "outputs": [
    {
     "name": "stdout",
     "output_type": "stream",
     "text": [
      "3\n",
      "3 X 1 = 3\n",
      "3 X 2 = 6\n",
      "3 X 3 = 9\n",
      "3 X 4 = 12\n",
      "3 X 5 = 15\n",
      "3 X 6 = 18\n",
      "3 X 7 = 21\n",
      "3 X 8 = 24\n",
      "3 X 9 = 27\n",
      "3 X 10 = 30\n"
     ]
    }
   ],
   "source": [
    "num = int(input())\n",
    "for x in range (1,11):\n",
    "    print(num, 'X', x, '=', num*x)"
   ]
  },
  {
   "cell_type": "code",
   "execution_count": 21,
   "metadata": {},
   "outputs": [
    {
     "name": "stdout",
     "output_type": "stream",
     "text": [
      "3\n",
      "3 X 1 = 3\n",
      "3 X 2 = 6\n",
      "3 X 3 = 9\n",
      "3 X 4 = 12\n",
      "3 X 5 = 15\n",
      "3 X 6 = 18\n",
      "3 X 7 = 21\n",
      "3 X 8 = 24\n",
      "3 X 9 = 27\n",
      "3 X 10 = 30\n"
     ]
    }
   ],
   "source": [
    "num = int(input())\n",
    "for i in range (1,11):\n",
    "    print(f'{num} X {i} = {num*i}')"
   ]
  },
  {
   "cell_type": "code",
   "execution_count": 4,
   "metadata": {},
   "outputs": [
    {
     "name": "stdout",
     "output_type": "stream",
     "text": [
      "40\n"
     ]
    }
   ],
   "source": [
    "i = 1\n",
    "num = 0\n",
    "while(i > 0):\n",
    "    if( (i**2+i+41)%41 == 0 ):\n",
    "        num = i\n",
    "        break\n",
    "    else:\n",
    "        i = i+1\n",
    "print(num)        "
   ]
  },
  {
   "cell_type": "code",
   "execution_count": null,
   "metadata": {},
   "outputs": [],
   "source": []
  }
 ],
 "metadata": {
  "kernelspec": {
   "display_name": "Python 3",
   "language": "python",
   "name": "python3"
  },
  "language_info": {
   "codemirror_mode": {
    "name": "ipython",
    "version": 3
   },
   "file_extension": ".py",
   "mimetype": "text/x-python",
   "name": "python",
   "nbconvert_exporter": "python",
   "pygments_lexer": "ipython3",
   "version": "3.8.5"
  }
 },
 "nbformat": 4,
 "nbformat_minor": 4
}
